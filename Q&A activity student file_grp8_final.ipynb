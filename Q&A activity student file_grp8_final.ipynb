{
 "cells": [
  {
   "cell_type": "markdown",
   "metadata": {
    "id": "4z_Z-K1tlrS7"
   },
   "source": [
    "## 1. Complete the following code to find the area of an equilateral triangle. Output should be as displayed"
   ]
  },
  {
   "cell_type": "code",
   "execution_count": 1,
   "metadata": {
    "id": "rP2qFD_SlrS_"
   },
   "outputs": [
    {
     "name": "stdout",
     "output_type": "stream",
     "text": [
      "Enter the side of the equilateral triangle: 3\n",
      "Area of the triangle is  3.897 Sq.Units\n"
     ]
    }
   ],
   "source": [
    "import math\n",
    "side = float(input(\"Enter the side of the equilateral triangle: \"))\n",
    "area = ((math.sqrt(3))/4)*pow(side,2)\n",
    "print (\"Area of the triangle is \", round (area,3), \"Sq.Units\")"
   ]
  },
  {
   "cell_type": "markdown",
   "metadata": {
    "id": "TjVKjIfclrTB"
   },
   "source": [
    "## 2. Write a program to count the number of each characters in a string"
   ]
  },
  {
   "cell_type": "code",
   "execution_count": 39,
   "metadata": {
    "id": "JY5seVUQlrTC"
   },
   "outputs": [
    {
     "name": "stdout",
     "output_type": "stream",
     "text": [
      "Enter the string:hello world\n",
      "The no of characters in the string is :  {'h': 1, 'e': 1, 'l': 3, 'o': 2, ' ': 1, 'w': 1, 'r': 1, 'd': 1}\n"
     ]
    }
   ],
   "source": [
    "str = input(\"Enter the string:\")\n",
    "d = dict()\n",
    "for c in str:\n",
    "        if c in d:\n",
    "            d[c] =d[c] +1\n",
    "        else:\n",
    "            d[c] =1\n",
    "print(\"The no of characters in the string is : \",d)"
   ]
  },
  {
   "cell_type": "markdown",
   "metadata": {
    "id": "l3LCULfklrTD"
   },
   "source": [
    "## Write a program to find the area and perimeter of a rectangle using functions"
   ]
  },
  {
   "cell_type": "code",
   "execution_count": 5,
   "metadata": {
    "id": "8haQD8edlrTD"
   },
   "outputs": [
    {
     "name": "stdout",
     "output_type": "stream",
     "text": [
      "length of the rectangle = 3\n",
      "breadth of the rectangle = 4\n",
      "Area of the rectangle =  12.0 sq.units\n",
      "Perimeter of the rectangle =  14.0 units\n"
     ]
    }
   ],
   "source": [
    "def rectangle (l,b):\n",
    "    print(\"Area of the rectangle = \", l*b, \"sq.units\")\n",
    "    print(\"Perimeter of the rectangle = \", 2*(l+b), \"units\")\n",
    "\n",
    "n1= float(input (\"length of the rectangle = \"))\n",
    "n2= float(input (\"breadth of the rectangle = \"))\n",
    "rectangle (n1,n2)"
   ]
  },
  {
   "cell_type": "markdown",
   "metadata": {
    "id": "JHK4ZdsflrTE"
   },
   "source": [
    "## 4. Write a program to print the fibonacci series till a specified number"
   ]
  },
  {
   "cell_type": "code",
   "execution_count": 29,
   "metadata": {
    "id": "LyBEj-4SlrTE"
   },
   "outputs": [
    {
     "name": "stdout",
     "output_type": "stream",
     "text": [
      "0\n",
      "1\n",
      "1\n",
      "2\n",
      "3\n",
      "5\n",
      "8\n",
      "13\n",
      "21\n",
      "34\n",
      "55\n",
      "89\n"
     ]
    }
   ],
   "source": [
    "num = 100\n",
    "t1 = 0\n",
    "t2 = 1\n",
    "print (t1)\n",
    "print (t2)\n",
    "ct = t1+t2\n",
    "while (ct<=num): \n",
    "    print(ct)\n",
    "    t1=t2\n",
    "    t2=ct\n",
    "    ct=t1+t2\n"
   ]
  },
  {
   "cell_type": "markdown",
   "metadata": {
    "id": "u4uBUcQKlrTE"
   },
   "source": [
    "## 5. Complete the following code to find the minimum of 3 number using cinditional statements. Output should be as displayed"
   ]
  },
  {
   "cell_type": "code",
   "execution_count": 42,
   "metadata": {
    "id": "XdZwrZjIlrTF"
   },
   "outputs": [
    {
     "name": "stdout",
     "output_type": "stream",
     "text": [
      "Enter three numbers followed by  : 4: 5: 6\n",
      "First number : 4:\n",
      "Second number : 5:\n",
      "Third number : 6\n",
      "4:  is the smallest number\n"
     ]
    }
   ],
   "source": [
    "a,b,c =input(\"Enter three numbers followed by  : \").split()\n",
    "\n",
    "print(\"First number :\",a)\n",
    "print(\"Second number :\",b)\n",
    "print(\"Third number :\",c)\n",
    "\n",
    "s = a\n",
    "if (b<s):\n",
    "    s=b\n",
    "if (c<s):\n",
    "    s=c\n",
    "if (a==b==c):\n",
    "    print(\"Entered numbers are equal!!!\")\n",
    "else:\n",
    "    print(s,\" is the smallest number\")"
   ]
  },
  {
   "cell_type": "markdown",
   "metadata": {
    "id": "aR_CnToWlrTG"
   },
   "source": [
    "## 6. Write a program to print star pyramind. The number of rows should be taken as input from the user"
   ]
  },
  {
   "cell_type": "code",
   "execution_count": 18,
   "metadata": {
    "id": "M37A-buplrTG"
   },
   "outputs": [
    {
     "name": "stdout",
     "output_type": "stream",
     "text": [
      "Enter the number of rows required for the pyramis: 3\n",
      "* \n",
      "\n",
      "* * \n",
      "\n",
      "* * * \n",
      "\n"
     ]
    }
   ],
   "source": [
    "\n",
    "n = int(input('Enter the number of rows required for the pyramis: ')) \n",
    "   \n",
    "for i in range(0, n):\n",
    "    for j in range(0, i+1):\n",
    "            print(\"* \",end=\"\")\n",
    "    print(\"\\n\")"
   ]
  },
  {
   "cell_type": "markdown",
   "metadata": {
    "id": "tlY6aFWBlrTH"
   },
   "source": [
    "## 7. Complete the following code to convert hour into seconds. Output should be as displayed"
   ]
  },
  {
   "cell_type": "code",
   "execution_count": 11,
   "metadata": {
    "id": "YOZQFk7FlrTH"
   },
   "outputs": [
    {
     "name": "stdout",
     "output_type": "stream",
     "text": [
      "Enter the hour:3\n",
      "3  Hour is equal to 10800 Seconds\n"
     ]
    }
   ],
   "source": [
    "def to_seconds():\n",
    "    to_seconds=time_in_hours*3600\n",
    "    return to_seconds\n",
    "time_in_hours = int(input(\"Enter the hour:\"))\n",
    "print(time_in_hours ,\" Hour is equal to\" ,to_seconds(),\"Seconds\")"
   ]
  },
  {
   "cell_type": "markdown",
   "metadata": {
    "id": "CnYorNiLlrTI"
   },
   "source": [
    "## 8. Write a program to print multiplication table as below"
   ]
  },
  {
   "cell_type": "code",
   "execution_count": 32,
   "metadata": {
    "id": "dPQqDPuDlrTI"
   },
   "outputs": [
    {
     "name": "stdout",
     "output_type": "stream",
     "text": [
      "enter the multiplication table you want:4\n",
      "1 * 4 = 4\n",
      "2 * 4 = 8\n",
      "3 * 4 = 12\n",
      "4 * 4 = 16\n",
      "5 * 4 = 20\n",
      "6 * 4 = 24\n",
      "7 * 4 = 28\n",
      "8 * 4 = 32\n",
      "9 * 4 = 36\n",
      "10 * 4 = 40\n",
      "11 * 4 = 44\n",
      "12 * 4 = 48\n"
     ]
    }
   ],
   "source": [
    "n = int(input('enter the multiplication table you want:'))\n",
    "for i in range (1, 13):\n",
    "    print (i, '*', n, '=', i*n )"
   ]
  },
  {
   "cell_type": "markdown",
   "metadata": {
    "id": "Fiaez8iblrTI"
   },
   "source": [
    "## 9. Write a program to take your 5 favorite food as list and print each as 'I like Biriyani'"
   ]
  },
  {
   "cell_type": "code",
   "execution_count": 38,
   "metadata": {
    "id": "39W1zFX7lrTJ"
   },
   "outputs": [
    {
     "name": "stdout",
     "output_type": "stream",
     "text": [
      "Enter the favorate food:chicken\n",
      "Enter the favorate food:biriyani\n",
      "Enter the favorate food:pasta\n",
      "Enter the favorate food:tea\n",
      "Enter the favorate food:juice\n",
      "['chicken', 'biriyani', 'pasta', 'tea', 'juice']\n",
      "I like chicken\n",
      "I like biriyani\n",
      "I like pasta\n",
      "I like tea\n",
      "I like juice\n"
     ]
    }
   ],
   "source": [
    "food=[]\n",
    "for i in range(0,5):\n",
    "    list=str(input(\"Enter the favorate food:\"))\n",
    "    food.append(list)\n",
    "print(food)\n",
    "for i in range(0,5):\n",
    "       print(\"I like\",food[i])"
   ]
  },
  {
   "cell_type": "markdown",
   "metadata": {
    "id": "3vlcDNNEP7d_"
   },
   "source": [
    "## 10. Find error(s) in the following code(if any) and rewrite code.\n",
    "\n"
   ]
  },
  {
   "cell_type": "code",
   "execution_count": 28,
   "metadata": {
    "id": "coREkcY3P9sG"
   },
   "outputs": [
    {
     "name": "stdout",
     "output_type": "stream",
     "text": [
      "Enter value of x:4\n",
      "Enter value of y:4\n",
      "They are equal\n"
     ]
    }
   ],
   "source": [
    "x= int(input('Enter value of x:'))\n",
    "y= int(input('Enter value of y:'))\n",
    "if (x==y):\n",
    "    print(\"They are equal\")\n",
    "else:\n",
    "    Print( \"They are unequal\")"
   ]
  },
  {
   "cell_type": "code",
   "execution_count": null,
   "metadata": {},
   "outputs": [],
   "source": []
  }
 ],
 "metadata": {
  "colab": {
   "collapsed_sections": [],
   "name": "Q&A activity student file.ipynb",
   "provenance": []
  },
  "kernelspec": {
   "display_name": "Python 3 (ipykernel)",
   "language": "python",
   "name": "python3"
  },
  "language_info": {
   "codemirror_mode": {
    "name": "ipython",
    "version": 3
   },
   "file_extension": ".py",
   "mimetype": "text/x-python",
   "name": "python",
   "nbconvert_exporter": "python",
   "pygments_lexer": "ipython3",
   "version": "3.8.8"
  }
 },
 "nbformat": 4,
 "nbformat_minor": 1
}
